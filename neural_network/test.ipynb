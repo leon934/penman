{
 "cells": [
  {
   "cell_type": "code",
   "execution_count": 8,
   "metadata": {},
   "outputs": [
    {
     "name": "stdout",
     "output_type": "stream",
     "text": [
      "          0      1      2      3      4      5      6      7      8      \\\n",
      "label         1      0      1      4      0      0      7      3      5   \n",
      "pixel0        0      0      0      0      0      0      0      0      0   \n",
      "pixel1        0      0      0      0      0      0      0      0      0   \n",
      "pixel2        0      0      0      0      0      0      0      0      0   \n",
      "pixel3        0      0      0      0      0      0      0      0      0   \n",
      "...         ...    ...    ...    ...    ...    ...    ...    ...    ...   \n",
      "pixel779      0      0      0      0      0      0      0      0      0   \n",
      "pixel780      0      0      0      0      0      0      0      0      0   \n",
      "pixel781      0      0      0      0      0      0      0      0      0   \n",
      "pixel782      0      0      0      0      0      0      0      0      0   \n",
      "pixel783      0      0      0      0      0      0      0      0      0   \n",
      "\n",
      "          9      ...  41990  41991  41992  41993  41994  41995  41996  41997  \\\n",
      "label         3  ...      3      1      9      6      4      0      1      7   \n",
      "pixel0        0  ...      0      0      0      0      0      0      0      0   \n",
      "pixel1        0  ...      0      0      0      0      0      0      0      0   \n",
      "pixel2        0  ...      0      0      0      0      0      0      0      0   \n",
      "pixel3        0  ...      0      0      0      0      0      0      0      0   \n",
      "...         ...  ...    ...    ...    ...    ...    ...    ...    ...    ...   \n",
      "pixel779      0  ...      0      0      0      0      0      0      0      0   \n",
      "pixel780      0  ...      0      0      0      0      0      0      0      0   \n",
      "pixel781      0  ...      0      0      0      0      0      0      0      0   \n",
      "pixel782      0  ...      0      0      0      0      0      0      0      0   \n",
      "pixel783      0  ...      0      0      0      0      0      0      0      0   \n",
      "\n",
      "          41998  41999  \n",
      "label         6      9  \n",
      "pixel0        0      0  \n",
      "pixel1        0      0  \n",
      "pixel2        0      0  \n",
      "pixel3        0      0  \n",
      "...         ...    ...  \n",
      "pixel779      0      0  \n",
      "pixel780      0      0  \n",
      "pixel781      0      0  \n",
      "pixel782      0      0  \n",
      "pixel783      0      0  \n",
      "\n",
      "[785 rows x 42000 columns]\n"
     ]
    }
   ],
   "source": [
    "import pandas as pd\n",
    "import numpy as np\n",
    "\n",
    "data = pd.read_csv(\"../mnist_dataset/train.csv\")\n",
    "\n",
    "data = data.transpose()\n",
    "\n",
    "print(data.head())\n",
    "\n",
    "# data = np.array(data).T\n",
    "\n",
    "# m, n = data.shape\n",
    "\n",
    "# Y_dev = data[0]\n",
    "# X_dev = data[1:n]\n",
    "\n",
    "# print(m, n)"
   ]
  }
 ],
 "metadata": {
  "kernelspec": {
   "display_name": "Python 3",
   "language": "python",
   "name": "python3"
  },
  "language_info": {
   "codemirror_mode": {
    "name": "ipython",
    "version": 3
   },
   "file_extension": ".py",
   "mimetype": "text/x-python",
   "name": "python",
   "nbconvert_exporter": "python",
   "pygments_lexer": "ipython3",
   "version": "3.12.4"
  }
 },
 "nbformat": 4,
 "nbformat_minor": 2
}
